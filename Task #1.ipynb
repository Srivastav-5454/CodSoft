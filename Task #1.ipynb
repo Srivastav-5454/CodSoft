{
 "cells": [
  {
   "cell_type": "markdown",
   "id": "00a153c5",
   "metadata": {},
   "source": [
    "### Building a simple chatbot that responds to user inputs based on predefined rules. Use if-else statements or pattern matching techniques to identify user queries and provide appropriate\\responses. This will give you a basic understanding of natural language processing and conversation flow\n"
   ]
  },
  {
   "cell_type": "code",
   "execution_count": 3,
   "id": "f2d5be11",
   "metadata": {},
   "outputs": [
    {
     "name": "stdout",
     "output_type": "stream",
     "text": [
      "You: hello\n",
      "Chatbot: Hi there! How can I help you?\n",
      "You: how are you?\n",
      "Chatbot: I'm just a computer program, but thanks for asking!\n",
      "You: what else!\n",
      "Chatbot: I'm sorry, I don't understand that. Can you please ask something else?\n",
      "You: bye\n",
      "Chatbot: Goodbye! Have a great day.\n",
      "You: exit\n",
      "Chatbot: Goodbye!\n"
     ]
    }
   ],
   "source": [
    "def simple_chatbot(user_input):\n",
    "    # Converting user input to lowercase for case-insensitive matching\n",
    "    user_input = user_input.lower()\n",
    "    # Simple pattern matching for user queries\n",
    "    if \"hello\" in user_input:\n",
    "        response = \"Hi there! How can I help you?\"\n",
    "    elif \"how are you\" in user_input:\n",
    "        response = \"I'm just a computer program, but thanks for asking!\"\n",
    "    elif \"bye\" in user_input:\n",
    "        response = \"Goodbye! Have a great day.\"\n",
    "    else:\n",
    "        response = \"I'm sorry, I don't understand that. Can you please ask something else?\"\n",
    "    return response\n",
    "while True:\n",
    "    user_input = input(\"You: \")\n",
    "    if user_input.lower() == 'exit':\n",
    "        print(\"Chatbot: Goodbye!\")\n",
    "        break\n",
    "    else:\n",
    "        bot_response = simple_chatbot(user_input)\n",
    "        print(\"Chatbot:\", bot_response)\n"
   ]
  }
 ],
 "metadata": {
  "kernelspec": {
   "display_name": "Python 3 (ipykernel)",
   "language": "python",
   "name": "python3"
  },
  "language_info": {
   "codemirror_mode": {
    "name": "ipython",
    "version": 3
   },
   "file_extension": ".py",
   "mimetype": "text/x-python",
   "name": "python",
   "nbconvert_exporter": "python",
   "pygments_lexer": "ipython3",
   "version": "3.10.9"
  }
 },
 "nbformat": 4,
 "nbformat_minor": 5
}
