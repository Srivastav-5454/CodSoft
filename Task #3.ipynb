{
 "cells": [
  {
   "cell_type": "markdown",
   "id": "ddad6275",
   "metadata": {},
   "source": [
    "### Task: Create a simple recommendation system that suggests items to users based on their preferences. You can use techniques like collaborative filtering or content-based filtering to recommend movies, books, or products to users."
   ]
  },
  {
   "cell_type": "code",
   "execution_count": 3,
   "id": "1faa08d9",
   "metadata": {},
   "outputs": [
    {
     "name": "stdout",
     "output_type": "stream",
     "text": [
      "Top Recommendations:\n",
      "Movie2: Similarity = 1.0000000000000002\n",
      "Movie1: Similarity = 0.6666666666666669\n",
      "Book1: Similarity = 0.6666666666666669\n",
      "Book2: Similarity = 0.6666666666666669\n",
      "Book3: Similarity = 0.6666666666666669\n",
      "Movie3: Similarity = 0.0\n"
     ]
    }
   ],
   "source": [
    "import numpy as np\n",
    "from sklearn.metrics.pairwise import cosine_similarity\n",
    "\n",
    "# Sample dataset of items and their features\n",
    "items = {\n",
    "    'Movie1': np.array([1, 0, 1, 0, 1]),  # Features: Action, Romance, Comedy, Sci-Fi, Drama\n",
    "    'Movie2': np.array([1, 1, 0, 0, 1]),\n",
    "    'Movie3': np.array([0, 0, 1, 1, 0]),\n",
    "    'Book1': np.array([0, 1, 1, 0, 1]),   # Features: Fiction, Romance, Mystery, Sci-Fi, Drama\n",
    "    'Book2': np.array([1, 1, 0, 1, 0]),\n",
    "    'Book3': np.array([0, 1, 0, 1, 1]),\n",
    "}\n",
    "\n",
    "# User preferences (features they like)\n",
    "user_preferences = np.array([1, 1, 0, 0, 1])  # User likes Romance and Drama\n",
    "\n",
    "def content_based_recommendation(user_preferences, items):\n",
    "    # Calculating cosine similarity between user preferences and each item's features\n",
    "    similarities = {}\n",
    "    for item, features in items.items():\n",
    "        similarity = cosine_similarity([user_preferences], [features])[0][0]\n",
    "        similarities[item] = similarity\n",
    "\n",
    "    # Sorting items based on similarity in descending order\n",
    "    recommended_items = sorted(similarities.items(), key=lambda x: x[1], reverse=True)\n",
    "\n",
    "    return recommended_items\n",
    "\n",
    "recommendations = content_based_recommendation(user_preferences, items)\n",
    "print(\"Top Recommendations:\")\n",
    "for item, similarity in recommendations:\n",
    "    print(f\"{item}: Similarity = {similarity}\")\n",
    "\n",
    "\n"
   ]
  }
 ],
 "metadata": {
  "kernelspec": {
   "display_name": "Python 3 (ipykernel)",
   "language": "python",
   "name": "python3"
  },
  "language_info": {
   "codemirror_mode": {
    "name": "ipython",
    "version": 3
   },
   "file_extension": ".py",
   "mimetype": "text/x-python",
   "name": "python",
   "nbconvert_exporter": "python",
   "pygments_lexer": "ipython3",
   "version": "3.10.9"
  }
 },
 "nbformat": 4,
 "nbformat_minor": 5
}
